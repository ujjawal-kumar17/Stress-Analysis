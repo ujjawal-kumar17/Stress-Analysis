{
  "nbformat": 4,
  "nbformat_minor": 0,
  "metadata": {
    "colab": {
      "provenance": [],
      "authorship_tag": "ABX9TyNxrwPzyWPVlhjRSnDjm3cv",
      "include_colab_link": true
    },
    "kernelspec": {
      "name": "python3",
      "display_name": "Python 3"
    },
    "language_info": {
      "name": "python"
    }
  },
  "cells": [
    {
      "cell_type": "markdown",
      "metadata": {
        "id": "view-in-github",
        "colab_type": "text"
      },
      "source": [
        "<a href=\"https://colab.research.google.com/github/ujjawal-kumar17/student_stress_factor_analysis./blob/main/Adult_stress.ipynb\" target=\"_parent\"><img src=\"https://colab.research.google.com/assets/colab-badge.svg\" alt=\"Open In Colab\"/></a>"
      ]
    },
    {
      "cell_type": "code",
      "execution_count": null,
      "metadata": {
        "id": "FASyuEOtmYaR"
      },
      "outputs": [],
      "source": [
        "import numpy as np\n",
        "import matplotlib.pyplot as plt\n",
        "import pandas as pd\n",
        "import seaborn as sns\n",
        "import pandas as pd\n",
        "from google.colab import files\n",
        "\n",
        "uploaded = files.upload()\n",
        "\n",
        "for fn in uploaded.keys():\n",
        "  print('User uploaded file \"{name}\" with length {length} bytes'.format(\n",
        "      name=fn, length=len(uploaded[fn])))\n",
        "\n",
        "  # Then you can read it in using pandas\n",
        "  stressAdult = pd.read_csv(fn)"
      ]
    },
    {
      "cell_type": "code",
      "source": [
        "correl = stressAdult.corr()\n",
        "plt.figure(figsize = (8,8))\n",
        "sns.heatmap(correl.iloc[:-1,-1:], annot = True, cmap = sns.color_palette(\"coolwarm\", as_cmap=True));"
      ],
      "metadata": {
        "id": "un8ict6hmj0q"
      },
      "execution_count": null,
      "outputs": []
    },
    {
      "cell_type": "code",
      "source": [
        "print(\"There are\", len(stressAdult), \"Adult in the dataset.\")\n",
        "print(\"The avarage anxiety level is:\", round(stressAdult.anxiety_level.mean(),2))\n",
        "print(len(stress.loc[stressAdult.mental_health_history == 1]), \"Adult reported a history of mental health issues.\")"
      ],
      "metadata": {
        "id": "u8JV50p0m5zk"
      },
      "execution_count": null,
      "outputs": []
    },
    {
      "cell_type": "code",
      "source": [
        "below_avarage = len(stressAdult.loc[stressAdult[\"self_esteem\"] < stressAdult[\"self_esteem\"].mean()])\n",
        "print(below_avarage, \"Adults have self esteem below avarage\")\n",
        "depressed = len(stressAdult.loc[stressAdult[\"depression\"] >= 10])\n",
        "print(round((depressed/len(stressAdult))*100,2), \"% of Adults reported moderate or higher levels of depression.\")"
      ],
      "metadata": {
        "id": "L7pqnzfDnCKM"
      },
      "execution_count": null,
      "outputs": []
    },
    {
      "cell_type": "code",
      "source": [
        "print(len(stressAdult.loc[stressAdult[\"headache\"] >2]), \"Adults experience headaches frequently.\")\n",
        "print(len(stressAdult.loc[stressAdult[\"sleep_quality\"] < 3]), \"Adults have bad sleep quality.\")\n",
        "\n",
        "import pandas as pd\n",
        "\n",
        "# Define the mapping of category values to blood pressure values\n",
        "blood_pressure_mapping = {1: (90, 60), 2: (110, 75), 3: (130, 90)}\n",
        "\n",
        "# Create systolic and diastolic columns using map\n",
        "stressAdult['systolic'] = stressAdult['blood_pressure'].map(lambda x: blood_pressure_mapping[x][0])\n",
        "stressAdult['diastolic'] = stressAdult['blood_pressure'].map(lambda x: blood_pressure_mapping[x][1])\n",
        "\n",
        "# Calculate the mean systolic and diastolic blood pressure\n",
        "mean_systolic = stressAdult['systolic'].mean()\n",
        "mean_diastolic = stressAdult['diastolic'].mean()\n",
        "\n",
        "# Display the result\n",
        "print(\"The average blood pressure is: {}/{}\".format(round(mean_systolic, 1), round(mean_diastolic, 1)))"
      ],
      "metadata": {
        "id": "cfUibTh0n4sz"
      },
      "execution_count": null,
      "outputs": []
    },
    {
      "cell_type": "code",
      "source": [
        "print(len(stressAdult.loc[stressAdult[\"noise_level\"] >= 4]),\"Adults live in high noise level areas.\")\n",
        "print(round((len(stressAdult.loc[stressAdult[\"living_conditions\"] <= 1])/len(stressAdult))*100,2),\"% of Adults feel unsafe in their living conditions.\", sep = \"\")\n",
        "print(len(stress.loc[stressAdult[\"basic_needs\"] <= 2]),\"Adults reported, that their basic needs didn't met.\")"
      ],
      "metadata": {
        "id": "k6BQlaxIpv0q"
      },
      "execution_count": null,
      "outputs": []
    },
    {
      "cell_type": "code",
      "source": [
        "print(len(stressAdult.loc[stressAdult[\"academic_performance\"] < stressAdult[\"academic_performance\"].mean()]), \"Adults rate their academic performance below avarage.\")\n",
        "print(\"The avarage study load reported by the students is \", round(stressAdult[\"study_load\"].mean(),2),\" on a range of 0-5.\", sep = \"\")\n",
        "print(len(stressAdult.loc[stressAdult[\"future_career_concerns\"]>= 4]), \"Adults have high concerns about their future careers.\")"
      ],
      "metadata": {
        "id": "jbqZ4NL7qFdO"
      },
      "execution_count": null,
      "outputs": []
    },
    {
      "cell_type": "code",
      "source": [
        "print(len(stressAdult.loc[stressAdult[\"social_support\"]>= 2]), \"Adults feel they have strong social support.\")\n",
        "print(round((len(stressAdult.loc[stressAdult[\"bullying\"] > 0])/len(stressAdult))*100,2),\"% of Adults have experienced bullying.\", sep = \"\")\n",
        "print(f\"{len(stressAdult.loc[stressAdult['extracurricular_activities'] > 0])} Adults participate in extracurricular activities.\")"
      ],
      "metadata": {
        "id": "JCZbct24qiW5"
      },
      "execution_count": null,
      "outputs": []
    }
  ]
}